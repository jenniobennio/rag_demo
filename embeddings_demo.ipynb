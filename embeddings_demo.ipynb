{
 "cells": [
  {
   "cell_type": "code",
   "execution_count": 1,
   "metadata": {},
   "outputs": [
    {
     "ename": "ModuleNotFoundError",
     "evalue": "No module named 'sklearn'",
     "output_type": "error",
     "traceback": [
      "\u001b[0;31m---------------------------------------------------------------------------\u001b[0m",
      "\u001b[0;31mModuleNotFoundError\u001b[0m                       Traceback (most recent call last)",
      "Cell \u001b[0;32mIn[1], line 2\u001b[0m\n\u001b[1;32m      1\u001b[0m \u001b[38;5;28;01mfrom\u001b[39;00m \u001b[38;5;21;01mllama_index\u001b[39;00m\u001b[38;5;21;01m.\u001b[39;00m\u001b[38;5;21;01membeddings\u001b[39;00m\u001b[38;5;21;01m.\u001b[39;00m\u001b[38;5;21;01mopenai\u001b[39;00m \u001b[38;5;28;01mimport\u001b[39;00m OpenAIEmbedding\n\u001b[0;32m----> 2\u001b[0m \u001b[38;5;28;01mfrom\u001b[39;00m \u001b[38;5;21;01msklearn\u001b[39;00m\u001b[38;5;21;01m.\u001b[39;00m\u001b[38;5;21;01mmetrics\u001b[39;00m\u001b[38;5;21;01m.\u001b[39;00m\u001b[38;5;21;01mpairwise\u001b[39;00m \u001b[38;5;28;01mimport\u001b[39;00m cosine_similarity\n\u001b[1;32m      3\u001b[0m \u001b[38;5;28;01mimport\u001b[39;00m \u001b[38;5;21;01mnumpy\u001b[39;00m \u001b[38;5;28;01mas\u001b[39;00m \u001b[38;5;21;01mnp\u001b[39;00m\n\u001b[1;32m      5\u001b[0m \u001b[38;5;66;03m# Initialize the OpenAI embedding model\u001b[39;00m\n",
      "\u001b[0;31mModuleNotFoundError\u001b[0m: No module named 'sklearn'"
     ]
    }
   ],
   "source": [
    "from llama_index.embeddings.openai import OpenAIEmbedding\n",
    "from sklearn.metrics.pairwise import cosine_similarity\n",
    "import numpy as np\n",
    "\n",
    "# Initialize the OpenAI embedding model\n",
    "embedding_model = OpenAIEmbedding(model=\"text-embedding-ada-002\")\n",
    "\n",
    "# Define the trivia questions and matching answers\n",
    "phrases = [\n",
    "    \"Who was the first president of the United States?\",\n",
    "    \"What is the capital city of France?\",\n",
    "    \"In what year did humans first land on the moon?\",\n",
    "    \"Which element on the periodic table has the chemical symbol O?\",\n",
    "    \"What is the largest planet in the solar system?\",\n",
    "    \"The first president of the United States was George Washington.\",\n",
    "    \"The capital city of France is Paris.\",\n",
    "    \"Humans first landed on the moon in the year 1969.\",\n",
    "    \"The chemical symbol O represents the element Oxygen.\",\n",
    "    \"The largest planet in the solar system is Jupiter.\"\n",
    "]\n",
    "\n",
    "# Generate embeddings for each phrase using OpenAI embeddings\n",
    "embeddings = embedding_model.get_text_embedding_batch(phrases)\n",
    "\n",
    "# Convert embeddings to a numpy array\n",
    "embeddings_array = np.array(embeddings)\n",
    "\n",
    "# Print the first phrase and the first several elements of its embedding\n",
    "print(f\"Phrase: {phrases[0]}\")\n",
    "print(f\"First 5 elements of its embedding: {embeddings_array[0][:5]}\\n\")\n",
    "\n",
    "# Compute cosine similarity between the embeddings\n",
    "similarity_matrix = cosine_similarity(embeddings_array)\n",
    "\n",
    "# Print the cosine similarity matrix\n",
    "print(\"Cosine Similarity Matrix:\")\n",
    "print(np.round(similarity_matrix, 2))\n",
    "print(\"\\nDetailed Similarity Results:\\n\")\n",
    "\n",
    "# Output comparison between phrases with improved readability\n",
    "for i in range(len(phrases)):\n",
    "    for j in range(i + 1, len(phrases)):\n",
    "        print(f\"Cosine similarity between:\\n  '{phrases[i]}'\\n  and\\n  '{phrases[j]}'\\n  => {similarity_matrix[i, j]:.4f}\\n\")"
   ]
  }
 ],
 "metadata": {
  "kernelspec": {
   "display_name": ".venv",
   "language": "python",
   "name": "python3"
  },
  "language_info": {
   "codemirror_mode": {
    "name": "ipython",
    "version": 3
   },
   "file_extension": ".py",
   "mimetype": "text/x-python",
   "name": "python",
   "nbconvert_exporter": "python",
   "pygments_lexer": "ipython3",
   "version": "3.12.5"
  }
 },
 "nbformat": 4,
 "nbformat_minor": 2
}
